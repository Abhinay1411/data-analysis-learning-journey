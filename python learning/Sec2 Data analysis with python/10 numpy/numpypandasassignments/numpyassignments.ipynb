{
 "cells": [
  {
   "cell_type": "markdown",
   "metadata": {},
   "source": [
    "# Module: NumPy Assignments\n",
    "## Lesson: NumPy\n",
    "### Assignment 1: Array Creation and Manipulation\n",
    "\n",
    "1. Create a NumPy array of shape (5, 5) filled with random integers between 1 and 20. Replace all the elements in the third column with 1.\n",
    "2. Create a NumPy array of shape (4, 4) with values from 1 to 16. Replace the diagonal elements with 0.\n",
    "\n",
    "### Assignment 2: Array Indexing and Slicing\n",
    "\n",
    "1. Create a NumPy array of shape (6, 6) with values from 1 to 36. Extract the sub-array consisting of the 3rd to 5th rows and 2nd to 4th columns.\n",
    "2. Create a NumPy array of shape (5, 5) with random integers. Extract the elements on the border.\n",
    "\n",
    "### Assignment 3: Array Operations\n",
    "\n",
    "1. Create two NumPy arrays of shape (3, 4) filled with random integers. Perform element-wise addition, subtraction, multiplication, and division.\n",
    "2. Create a NumPy array of shape (4, 4) with values from 1 to 16. Compute the row-wise and column-wise sum.\n",
    "\n",
    "### Assignment 4: Statistical Operations\n",
    "\n",
    "1. Create a NumPy array of shape (5, 5) filled with random integers. Compute the mean, median, standard deviation, and variance of the array.\n",
    "2. Create a NumPy array of shape (3, 3) with values from 1 to 9. Normalize the array (i.e., scale the values to have a mean of 0 and a standard deviation of 1).\n",
    "\n",
    "### Assignment 5: Broadcasting\n",
    "\n",
    "1. Create a NumPy array of shape (3, 3) filled with random integers. Add a 1D array of shape (3,) to each row of the 2D array using broadcasting.\n",
    "2. Create a NumPy array of shape (4, 4) filled with random integers. Subtract a 1D array of shape (4,) from each column of the 2D array using broadcasting.\n",
    "\n",
    "### Assignment 6: Linear Algebra\n",
    "\n",
    "1. Create a NumPy array of shape (3, 3) representing a matrix. Compute its determinant, inverse, and eigenvalues.\n",
    "2. Create two NumPy arrays of shape (2, 3) and (3, 2). Perform matrix multiplication on these arrays.\n",
    "\n",
    "### Assignment 7: Advanced Array Manipulation\n",
    "\n",
    "1. Create a NumPy array of shape (3, 3) with values from 1 to 9. Reshape the array to shape (1, 9) and then to shape (9, 1).\n",
    "2. Create a NumPy array of shape (5, 5) filled with random integers. Flatten the array and then reshape it back to (5, 5).\n",
    "\n",
    "### Assignment 8: Fancy Indexing and Boolean Indexing\n",
    "\n",
    "1. Create a NumPy array of shape (5, 5) filled with random integers. Use fancy indexing to extract the elements at the corners of the array.\n",
    "2. Create a NumPy array of shape (4, 4) filled with random integers. Use boolean indexing to set all elements greater than 10 to 10.\n",
    "\n",
    "### Assignment 9: Structured Arrays\n",
    "\n",
    "1. Create a structured array with fields 'name' (string), 'age' (integer), and 'weight' (float). Add some data and sort the array by age.\n",
    "2. Create a structured array with fields 'x' and 'y' (both integers). Add some data and compute the Euclidean distance between each pair of points.\n",
    "\n",
    "### Assignment 10: Masked Arrays\n",
    "\n",
    "1. Create a masked array of shape (4, 4) with random integers and mask the elements greater than 10. Compute the sum of the unmasked elements.\n",
    "2. Create a masked array of shape (3, 3) with random integers and mask the diagonal elements. Replace the masked elements with the mean of the unmasked elements."
   ]
  },
  {
   "cell_type": "code",
   "execution_count": 3,
   "metadata": {},
   "outputs": [
    {
     "name": "stdout",
     "output_type": "stream",
     "text": [
      "[[18 14 20 19 13 10]\n",
      " [ 4 16  8  3  1  7]\n",
      " [10  7 20  6  3  2]\n",
      " [ 4  8 10  4  4  4]\n",
      " [19 11  8  7  4  4]\n",
      " [ 5 18  3 14  3 18]]\n",
      "modified array: \n",
      "[[18 14  1 19 13 10]\n",
      " [ 4 16  1  3  1  7]\n",
      " [10  7  1  6  3  2]\n",
      " [ 4  8  1  4  4  4]\n",
      " [19 11  1  7  4  4]\n",
      " [ 5 18  1 14  3 18]]\n"
     ]
    }
   ],
   "source": [
    "# Create a NumPy array of shape (5, 5) filled with random integers between 1 and 20. Replace all the elements in the third column with 1.\n",
    "import numpy as np\n",
    "\n",
    "arr = np.random.randint(1,21, size= (6,6))\n",
    "print(arr)\n",
    "\n",
    "arr[:,2]= 1\n",
    "print(\"modified array: \")\n",
    "print(arr)\n"
   ]
  },
  {
   "cell_type": "code",
   "execution_count": 5,
   "id": "4a4680f3",
   "metadata": {},
   "outputs": [
    {
     "name": "stdout",
     "output_type": "stream",
     "text": [
      "[[ 6 16  2 10 16]\n",
      " [ 7 10 12  3 15]\n",
      " [ 1  3  4  6  1]\n",
      " [11 10 15  1 10]\n",
      " [ 6  5 13  7 10]]\n",
      "modified array: \n",
      "[[ 0 16  2 10 16]\n",
      " [ 7  0 12  3 15]\n",
      " [ 1  3  0  6  1]\n",
      " [11 10 15  0 10]\n",
      " [ 6  5 13  7  0]]\n"
     ]
    }
   ],
   "source": [
    "# Create a NumPy array of shape (4, 4) with values from 1 to 16. Replace the diagonal elements with 0.\n",
    "arr = np.random.randint(1,17, size= (5,5))\n",
    "print(arr)\n",
    "\n",
    "np. fill_diagonal(arr,0)\n",
    "print(\"modified array: \")\n",
    "print(arr)"
   ]
  },
  {
   "cell_type": "code",
   "execution_count": 4,
   "id": "f9109a1d",
   "metadata": {},
   "outputs": [
    {
     "name": "stdout",
     "output_type": "stream",
     "text": [
      "[[ 3  6 16 32  2 31]\n",
      " [17 30 11 22  9 24]\n",
      " [ 6 12 35 17 26 10]\n",
      " [15 29 27 26  2 14]\n",
      " [31 19 26 10  2 27]\n",
      " [29 34 27 13  5  6]]\n",
      "the subarray is : \n",
      "[[12 35 17]\n",
      " [29 27 26]\n",
      " [19 26 10]]\n"
     ]
    }
   ],
   "source": [
    "# Create a NumPy array of shape (6, 6) with values from 1 to 36. Extract the sub-array consisting of the 3rd to 5th rows and 2nd to 4th columns.\n",
    "\n",
    "import numpy as np  \n",
    "arr= np.random.randint(1,37, size=(6,6))\n",
    "print(arr)\n",
    "sub_array= arr[2:5,1:4]\n",
    "print(\"the subarray is : \")\n",
    "print(sub_array)\n"
   ]
  },
  {
   "cell_type": "code",
   "execution_count": 12,
   "id": "91550523",
   "metadata": {},
   "outputs": [
    {
     "name": "stdout",
     "output_type": "stream",
     "text": [
      "Array:\n",
      " [[99 72 74 14 32]\n",
      " [54 50 57 97 59]\n",
      " [ 7 74 34 12  3]\n",
      " [95 17 38 86  2]\n",
      " [72 32  0 10 23]]\n",
      "\n",
      "Border elements:\n",
      " [99 72 74 14 32 72 32  0 10 23 54  7 95 59  3  2]\n"
     ]
    }
   ],
   "source": [
    "# Create a NumPy array of shape (5, 5) with random integers. Extract the elements on the border.\n",
    "import numpy as np\n",
    "\n",
    "# Create a 5x5 array with random integers\n",
    "array = np.random.randint(0, 100, (5, 5))\n",
    "print(\"Array:\\n\", array)\n",
    "\n",
    "# Extract the border elements\n",
    "border_elements = np.concatenate((array[0, :], array[-1, :], array[1:-1, 0], array[1:-1, -1]))\n",
    "print(\"\\nBorder elements:\\n\", border_elements)\n",
    "\n"
   ]
  },
  {
   "cell_type": "code",
   "execution_count": 17,
   "id": "7df1c07d",
   "metadata": {},
   "outputs": [
    {
     "name": "stdout",
     "output_type": "stream",
     "text": [
      "the first array is: \n",
      " [[ 6  1  2  5]\n",
      " [ 1  7 10  3]\n",
      " [ 9  4  2  8]]\n",
      "\n",
      "the second array is: \n",
      " [[ 6 10  6  5]\n",
      " [ 8  6  6  9]\n",
      " [ 5  2  7  2]]\n",
      "\n",
      "the addtion of two arrays are:\n",
      " [[12 11  8 10]\n",
      " [ 9 13 16 12]\n",
      " [14  6  9 10]]\n",
      "\n",
      "the subtraction of two arrays are:\n",
      " [[ 0 -9 -4  0]\n",
      " [-7  1  4 -6]\n",
      " [ 4  2 -5  6]]\n",
      "\n",
      "the multiplication of two arrays are:\n",
      " [[36 10 12 25]\n",
      " [ 8 42 60 27]\n",
      " [45  8 14 16]]\n",
      "\n",
      "the division of two arrays are:\n",
      " [[1.         0.1        0.33333333 1.        ]\n",
      " [0.125      1.16666667 1.66666667 0.33333333]\n",
      " [1.8        2.         0.28571429 4.        ]]\n",
      "\n"
     ]
    }
   ],
   "source": [
    "#  Create two NumPy arrays of shape (3, 4) filled with random integers. Perform element-wise addition, subtraction, multiplication, and division.\n",
    "arr1 = np.random.randint(1,11, size=(3,4))\n",
    "arr2 = np.random.randint(1,11, size=(3,4))\n",
    "print(f\"the first array is: \\n {arr1}\\n\")\n",
    "print(f\"the second array is: \\n {arr2}\\n\")\n",
    "\n",
    "addele = arr1 + arr2\n",
    "subele = arr1 - arr2\n",
    "mulele = arr1 * arr2\n",
    "divele = arr1/arr2\n",
    "\n",
    "print(f\"the addtion of two arrays are:\\n {addele}\\n\")\n",
    "print(f\"the subtraction of two arrays are:\\n {subele}\\n\")\n",
    "print(f\"the multiplication of two arrays are:\\n {mulele}\\n\")\n",
    "print(f\"the division of two arrays are:\\n {divele}\\n\")"
   ]
  },
  {
   "cell_type": "code",
   "execution_count": 20,
   "id": "2ad0115e",
   "metadata": {},
   "outputs": [
    {
     "name": "stdout",
     "output_type": "stream",
     "text": [
      "the original array:\n",
      "[[ 2  6  2 10]\n",
      " [ 6  4  8  3]\n",
      " [ 1  7  8  1]\n",
      " [ 2  6  3  6]]\n",
      "\n",
      "the row-wise sum of array is: \n",
      "[20 21 17 17]\n",
      "\n",
      "the col-wise sum of array is: \n",
      "[11 23 21 20]\n",
      "\n"
     ]
    }
   ],
   "source": [
    "# Create a NumPy array of shape (4, 4) with values from 1 to 16. Compute the row-wise and column-wise sum.\n",
    "\n",
    "arr = np.random.randint(1,11, size=(4,4))\n",
    "print(f\"the original array:\\n{arr}\\n\")\n",
    "\n",
    "row_sum= np.sum(arr, axis=1)\n",
    "print(f\"the row-wise sum of array is: \\n{row_sum}\\n\")\n",
    "\n",
    "col_sum= np.sum(arr, axis=0)\n",
    "print(f\"the col-wise sum of array is: \\n{col_sum}\\n\")"
   ]
  },
  {
   "cell_type": "code",
   "execution_count": 22,
   "id": "646b31cd",
   "metadata": {},
   "outputs": [
    {
     "name": "stdout",
     "output_type": "stream",
     "text": [
      "the original array: \n",
      "[[ 7  1  2  2  6]\n",
      " [ 6  4  7  6  8]\n",
      " [ 1  4  1  4  1]\n",
      " [10  5  5 10  8]\n",
      " [ 2  8  9  6  3]]\n",
      "\n",
      "the mean of above array is: 5.04\n",
      "\n",
      "the median of above array is: 5.0\n",
      "\n",
      "the std of above array is: 2.8492806109613005\n",
      "\n",
      "the var of above array is: 8.118400000000001\n",
      "\n"
     ]
    }
   ],
   "source": [
    "# Create a NumPy array of shape (5, 5) filled with random integers. Compute the mean, median, standard deviation, and variance of the array.\n",
    "\n",
    "arr= np.random.randint(1, 11, size=(5, 5))\n",
    "print(f\"the original array: \\n{arr}\\n\")\n",
    "\n",
    "mean= np.mean(arr)\n",
    "median= np.median(arr)\n",
    "std= np.std(arr)\n",
    "var= np.var(arr)\n",
    "\n",
    "print(f\"the mean of above array is: {mean}\\n\")\n",
    "print(f\"the median of above array is: {median}\\n\")\n",
    "print(f\"the std of above array is: {std}\\n\")\n",
    "print(f\"the var of above array is: {var}\\n\")"
   ]
  },
  {
   "cell_type": "code",
   "execution_count": 25,
   "id": "3ecb4e9e",
   "metadata": {},
   "outputs": [
    {
     "name": "stdout",
     "output_type": "stream",
     "text": [
      "the original array: \n",
      "[[1 2 3]\n",
      " [4 5 6]\n",
      " [7 8 9]]\n",
      "\n",
      "normalized array is: \n",
      " [[-1.54919334 -1.161895   -0.77459667]\n",
      " [-0.38729833  0.          0.38729833]\n",
      " [ 0.77459667  1.161895    1.54919334]]\n",
      "\n"
     ]
    }
   ],
   "source": [
    "# Create a NumPy array of shape (3, 3) with values from 1 to 9. Normalize the array (i.e., scale the values to have a mean of 0 and a standard deviation of 1).\n",
    "\n",
    "arr= np.arange(1, 10).reshape(3,3)\n",
    "print(f\"the original array: \\n{arr}\\n\")\n",
    "\n",
    "mean= np.mean(arr)\n",
    "std= np.std(arr)\n",
    "\n",
    "normalized_array= (arr-mean)/std\n",
    "print(f\"normalized array is: \\n {normalized_array}\\n\")\n",
    "\n"
   ]
  },
  {
   "cell_type": "code",
   "execution_count": 26,
   "id": "c060f2b4",
   "metadata": {},
   "outputs": [
    {
     "name": "stdout",
     "output_type": "stream",
     "text": [
      "the original array given: \n",
      "[[ 3  1  8]\n",
      " [ 1  7  5]\n",
      " [ 1  1 10]]\n",
      "\n",
      "the row array given: \n",
      "[3 1 3]\n",
      "\n",
      "the brodcasted array is: \n",
      "[[ 6  2 11]\n",
      " [ 4  8  8]\n",
      " [ 4  2 13]]\n",
      "\n"
     ]
    }
   ],
   "source": [
    "# Create a NumPy array of shape (3, 3) filled with random integers. Add a 1D array of shape (3,) to each row of the 2D array using broadcasting.\n",
    "org_arr= np.random.randint(1,11, size=(3,3))\n",
    "row_arr= np.random.randint(1,11, size=(3,))\n",
    "print(f\"the original array given: \\n{org_arr}\\n\")\n",
    "print(f\"the row array given: \\n{row_arr}\\n\")\n",
    "\n",
    "brod_arr= org_arr + row_arr\n",
    "\n",
    "print(f\"the brodcasted array is: \\n{brod_arr}\\n\")"
   ]
  },
  {
   "cell_type": "code",
   "execution_count": 28,
   "id": "9a1d2cfc",
   "metadata": {},
   "outputs": [
    {
     "name": "stdout",
     "output_type": "stream",
     "text": [
      "the original array: \n",
      "[[7 8 1 3]\n",
      " [8 8 5 1]\n",
      " [7 9 2 2]\n",
      " [6 7 3 5]]\n",
      "\n",
      "the 1D array: \n",
      "[4 2 5 1]\n",
      "\n",
      "the resulted array is: \n",
      "[[ 3  4 -3 -1]\n",
      " [ 6  6  3 -1]\n",
      " [ 2  4 -3 -3]\n",
      " [ 5  6  2  4]]\n",
      "\n"
     ]
    }
   ],
   "source": [
    "# Create a NumPy array of shape (4, 4) filled with random integers. Subtract a 1D array of shape (4,) from each column of the 2D array using broadcasting.\n",
    "\n",
    "org_arr= np.random.randint(1,11, size=(4,4))\n",
    "sub_arr= np.random.randint(1,6, size=(4,))\n",
    "print(f\"the original array: \\n{org_arr}\\n\")\n",
    "print(f\"the 1D array: \\n{sub_arr}\\n\")\n",
    "\n",
    "resulted_array= org_arr - sub_arr[:, np.newaxis]\n",
    "print(f\"the resulted array is: \\n{resulted_array}\\n\")"
   ]
  },
  {
   "cell_type": "code",
   "execution_count": 31,
   "id": "57cd70c2",
   "metadata": {},
   "outputs": [
    {
     "name": "stdout",
     "output_type": "stream",
     "text": [
      "the matrix given:\n",
      "[[ 7  6  7]\n",
      " [ 1 10  1]\n",
      " [ 3  4  7]]\n",
      "\n",
      "the determinant of the matrix is: 255.99999999999994\n",
      "\n",
      "the Inverse of the matrix is: \n",
      "[[ 0.2578125 -0.0546875 -0.25     ]\n",
      " [-0.015625   0.109375   0.       ]\n",
      " [-0.1015625 -0.0390625  0.25     ]]\n",
      "\n",
      "the Eigenvalues of the matrix is: \n",
      "[14.05335943  2.4203554   7.52628517]\n",
      "\n"
     ]
    }
   ],
   "source": [
    "# Create a NumPy array of shape (3, 3) representing a matrix. Compute its determinant, inverse, and eigenvalues.\n",
    "matrix= np.random.randint(1,11, size=(3,3))\n",
    "print(f\"the matrix given:\\n{matrix}\\n\")\n",
    "\n",
    "determinant= np.linalg.det(matrix)\n",
    "print(f\"the determinant of the matrix is: {determinant}\\n\")\n",
    "Inverse= np.linalg.inv(matrix)\n",
    "print(f\"the Inverse of the matrix is: \\n{Inverse}\\n\")\n",
    "Eigenvalues= np.linalg.eigvals(matrix)\n",
    "print(f\"the Eigenvalues of the matrix is: \\n{Eigenvalues}\\n\")\n"
   ]
  },
  {
   "cell_type": "code",
   "execution_count": 32,
   "id": "9b1e01c8",
   "metadata": {},
   "outputs": [
    {
     "name": "stdout",
     "output_type": "stream",
     "text": [
      "the given array1 is: \n",
      "[[ 9 10  1]\n",
      " [ 2  8  6]]\n",
      "\n",
      "the given array2 is: \n",
      "[[4 7]\n",
      " [8 4]\n",
      " [3 1]]\n",
      "\n",
      "the multiplication of given two matrix is: \n",
      "[[119 104]\n",
      " [ 90  52]]\n"
     ]
    }
   ],
   "source": [
    "\n",
    "# Create two NumPy arrays of shape (2, 3) and (3, 2). Perform matrix multiplication on these arrays.\n",
    "array1= np.random.randint(1,11, size=(2,3))\n",
    "array2= np.random.randint(1,11, size=(3,2))\n",
    "print(f\"the given array1 is: \\n{array1}\\n\")\n",
    "print(f\"the given array2 is: \\n{array2}\\n\")\n",
    "\n",
    "array_multiplication= np.dot(array1,array2)\n",
    "print(f\"the multiplication of given two matrix is: \\n{array_multiplication}\")"
   ]
  },
  {
   "cell_type": "code",
   "execution_count": 36,
   "id": "689c89c4",
   "metadata": {},
   "outputs": [
    {
     "name": "stdout",
     "output_type": "stream",
     "text": [
      "the given original array is: \n",
      "[[1 2 3]\n",
      " [4 5 6]\n",
      " [7 8 9]]\n",
      "\n",
      "reshaped array to (1,9) looks like: \n",
      "[[1 2 3 4 5 6 7 8 9]]\n",
      "\n",
      "the reshaped array to (9,1) looks like: \n",
      "[[1]\n",
      " [2]\n",
      " [3]\n",
      " [4]\n",
      " [5]\n",
      " [6]\n",
      " [7]\n",
      " [8]\n",
      " [9]]\n",
      "\n"
     ]
    }
   ],
   "source": [
    "\n",
    "# 1. Create a NumPy array of shape (3, 3) with values from 1 to 9. Reshape the array to shape (1, 9) and then to shape (9, 1).\n",
    "org_arr= np.arange(1,10).reshape(3,3)\n",
    "print(f\"the given original array is: \\n{org_arr}\\n\")\n",
    "\n",
    "reshaped_array= org_arr.reshape(1,9)\n",
    "print(f\"reshaped array to (1,9) looks like: \\n{reshaped_array}\\n\")\n",
    "\n",
    "reshaped_array= org_arr.reshape(9,1)\n",
    "print(f\"the reshaped array to (9,1) looks like: \\n{reshaped_array}\\n\")\n"
   ]
  },
  {
   "cell_type": "code",
   "execution_count": 4,
   "id": "918681e0",
   "metadata": {},
   "outputs": [
    {
     "name": "stdout",
     "output_type": "stream",
     "text": [
      "the original array: \n",
      "[[ 6  2  5  4  7]\n",
      " [10  2  2  5 10]\n",
      " [ 8  1  8  1  4]\n",
      " [ 1  4  5  9  1]\n",
      " [ 2  8 10  1  3]]\n",
      "\n",
      "the flatten array is : \n",
      "[ 6  2  5  4  7 10  2  2  5 10  8  1  8  1  4  1  4  5  9  1  2  8 10  1\n",
      "  3]\n",
      "\n",
      "the reshaped array looks like: \n",
      "[[ 6  2  5  4  7]\n",
      " [10  2  2  5 10]\n",
      " [ 8  1  8  1  4]\n",
      " [ 1  4  5  9  1]\n",
      " [ 2  8 10  1  3]]\n",
      "\n"
     ]
    }
   ],
   "source": [
    "# 2. Create a NumPy array of shape (5, 5) filled with random integers. Flatten the array and then reshape it back to (5, 5).\n",
    "import numpy as np\n",
    "org_arr= np.random.randint(1,11, size=(5,5))\n",
    "print(f\"the original array: \\n{org_arr}\\n\")\n",
    "\n",
    "flatten_arr= org_arr.flatten()\n",
    "print(f\"the flatten array is : \\n{flatten_arr}\\n\")\n",
    "\n",
    "reshaped_array= flatten_arr.reshape(5,5)\n",
    "print(f\"the reshaped array looks like: \\n{reshaped_array}\\n\")\n"
   ]
  },
  {
   "cell_type": "code",
   "execution_count": 9,
   "id": "9dbd0243",
   "metadata": {},
   "outputs": [
    {
     "name": "stdout",
     "output_type": "stream",
     "text": [
      "the original array given: \n",
      "[[ 6 10  4  1  1]\n",
      " [10  8  3  2  9]\n",
      " [ 8  6  7  1  2]\n",
      " [ 1  6  8  3  5]\n",
      " [ 1  2  6  3 10]]\n",
      "\n",
      "the corner elements are: \n",
      "[ 6  1  1 10]\n",
      "\n"
     ]
    }
   ],
   "source": [
    "# 1. Create a NumPy array of shape (5, 5) filled with random integers. Use fancy indexing to extract the elements at the corners of the array.\n",
    "org_arr= np.random.randint(1,11, size=(5,5))\n",
    "print(f\"the original array given: \\n{org_arr}\\n\")\n",
    "\n",
    "corners= org_arr[[0,0,-1,-1], [0,-1,0,-1]]\n",
    "print(f\"the corner elements are: \\n{corners}\\n\")"
   ]
  },
  {
   "cell_type": "code",
   "execution_count": null,
   "id": "555f1d18",
   "metadata": {},
   "outputs": [],
   "source": [
    "# 2. Create a NumPy array of shape (4, 4) filled with random integers. Use boolean indexing to set all elements greater than 10 to 10.\n",
    "\n"
   ]
  },
  {
   "cell_type": "code",
   "execution_count": null,
   "id": "29f03e94",
   "metadata": {},
   "outputs": [],
   "source": [
    "# 1. Create a structured array with fields 'name' (string), 'age' (integer), and 'weight' (float). Add some data and sort the array by age.\n"
   ]
  },
  {
   "cell_type": "code",
   "execution_count": null,
   "id": "226a2e9a",
   "metadata": {},
   "outputs": [],
   "source": [
    "# 2. Create a structured array with fields 'x' and 'y' (both integers). Add some data and compute the Euclidean distance between each pair of points.\n",
    "\n",
    "\n",
    "\n"
   ]
  },
  {
   "cell_type": "code",
   "execution_count": null,
   "id": "4f14deb1",
   "metadata": {},
   "outputs": [],
   "source": [
    "# 1. Create a masked array of shape (4, 4) with random integers and mask the elements greater than 10. Compute the sum of the unmasked elements.\n"
   ]
  },
  {
   "cell_type": "code",
   "execution_count": null,
   "id": "e2e37369",
   "metadata": {},
   "outputs": [],
   "source": [
    "# 2. Create a masked array of shape (3, 3) with random integers and mask the diagonal elements. Replace the masked elements with the mean of the unmasked elements.\n"
   ]
  }
 ],
 "metadata": {
  "kernelspec": {
   "display_name": "Python 3",
   "language": "python",
   "name": "python3"
  },
  "language_info": {
   "codemirror_mode": {
    "name": "ipython",
    "version": 3
   },
   "file_extension": ".py",
   "mimetype": "text/x-python",
   "name": "python",
   "nbconvert_exporter": "python",
   "pygments_lexer": "ipython3",
   "version": "3.12.0"
  }
 },
 "nbformat": 4,
 "nbformat_minor": 5
}
