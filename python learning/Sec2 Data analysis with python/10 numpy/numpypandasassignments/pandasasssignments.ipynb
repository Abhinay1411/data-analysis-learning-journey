{
 "cells": [
  {
   "cell_type": "markdown",
   "metadata": {},
   "source": [
    "# Module: Pandas Assignments\n",
    "## Lesson: Pandas\n",
    "### Assignment 1: DataFrame Creation and Indexing\n",
    "\n",
    "1. Create a Pandas DataFrame with 4 columns and 6 rows filled with random integers. Set the index to be the first column.\n",
    "2. Create a Pandas DataFrame with columns 'A', 'B', 'C' and index 'X', 'Y', 'Z'. Fill the DataFrame with random integers and access the element at row 'Y' and column 'B'.\n",
    "\n",
    "### Assignment 2: DataFrame Operations\n",
    "\n",
    "1. Create a Pandas DataFrame with 3 columns and 5 rows filled with random integers. Add a new column that is the product of the first two columns.\n",
    "2. Create a Pandas DataFrame with 3 columns and 4 rows filled with random integers. Compute the row-wise and column-wise sum.\n",
    "\n",
    "### Assignment 3: Data Cleaning\n",
    "\n",
    "1. Create a Pandas DataFrame with 3 columns and 5 rows filled with random integers. Introduce some NaN values. Fill the NaN values with the mean of the respective columns.\n",
    "2. Create a Pandas DataFrame with 4 columns and 6 rows filled with random integers. Introduce some NaN values. Drop the rows with any NaN values.\n",
    "\n",
    "### Assignment 4: Data Aggregation\n",
    "\n",
    "1. Create a Pandas DataFrame with 2 columns: 'Category' and 'Value'. Fill the 'Category' column with random categories ('A', 'B', 'C') and the 'Value' column with random integers. Group the DataFrame by 'Category' and compute the sum and mean of 'Value' for each category.\n",
    "2. Create a Pandas DataFrame with 3 columns: 'Product', 'Category', and 'Sales'. Fill the DataFrame with random data. Group the DataFrame by 'Category' and compute the total sales for each category.\n",
    "\n",
    "### Assignment 5: Merging DataFrames\n",
    "\n",
    "1. Create two Pandas DataFrames with a common column. Merge the DataFrames using the common column.\n",
    "2. Create two Pandas DataFrames with different columns. Concatenate the DataFrames along the rows and along the columns.\n",
    "\n",
    "### Assignment 6: Time Series Analysis\n",
    "\n",
    "1. Create a Pandas DataFrame with a datetime index and one column filled with random integers. Resample the DataFrame to compute the monthly mean of the values.\n",
    "2. Create a Pandas DataFrame with a datetime index ranging from '2021-01-01' to '2021-12-31' and one column filled with random integers. Compute the rolling mean with a window of 7 days.\n",
    "\n",
    "### Assignment 7: MultiIndex DataFrame\n",
    "\n",
    "1. Create a Pandas DataFrame with a MultiIndex (hierarchical index). Perform some basic indexing and slicing operations on the MultiIndex DataFrame.\n",
    "2. Create a Pandas DataFrame with MultiIndex consisting of 'Category' and 'SubCategory'. Fill the DataFrame with random data and compute the sum of values for each 'Category' and 'SubCategory'.\n",
    "\n",
    "### Assignment 8: Pivot Tables\n",
    "\n",
    "1. Create a Pandas DataFrame with columns 'Date', 'Category', and 'Value'. Create a pivot table to compute the sum of 'Value' for each 'Category' by 'Date'.\n",
    "2. Create a Pandas DataFrame with columns 'Year', 'Quarter', and 'Revenue'. Create a pivot table to compute the mean 'Revenue' for each 'Quarter' by 'Year'.\n",
    "\n",
    "### Assignment 9: Applying Functions\n",
    "\n",
    "1. Create a Pandas DataFrame with 3 columns and 5 rows filled with random integers. Apply a function that doubles the values of the DataFrame.\n",
    "2. Create a Pandas DataFrame with 3 columns and 6 rows filled with random integers. Apply a lambda function to create a new column that is the sum of the existing columns.\n",
    "\n",
    "### Assignment 10: Working with Text Data\n",
    "\n",
    "1. Create a Pandas Series with 5 random text strings. Convert all the strings to uppercase.\n",
    "2. Create a Pandas Series with 5 random text strings. Extract the first three characters of each string.\n"
   ]
  },
  {
   "cell_type": "code",
   "execution_count": 10,
   "metadata": {},
   "outputs": [
    {
     "name": "stdout",
     "output_type": "stream",
     "text": [
      "print original dataframe: \n",
      "    A   B   C   D\n",
      "0   0   3   1  18\n",
      "1  16   9  19   1\n",
      "2   4   5  19  18\n",
      "3  16  17  14   2\n",
      "4   0  17   2  17\n",
      "5  19  19  20  10\n",
      "\n",
      "data frame with new index is: \n",
      "     B   C   D\n",
      "A             \n",
      "0    3   1  18\n",
      "16   9  19   1\n",
      "4    5  19  18\n",
      "16  17  14   2\n",
      "0   17   2  17\n",
      "19  19  20  10\n",
      "\n"
     ]
    }
   ],
   "source": [
    "# Create a Pandas DataFrame with 4 columns and 6 rows filled with random integers. Set the index to be the first column.\n",
    "import pandas as pd\n",
    "import numpy as np\n",
    "\n",
    "data_frame= pd.DataFrame(np.random.randint(0,21, size=(6,4)), columns=['A','B','C','D'])\n",
    "print(f\"print original dataframe: \\n{data_frame}\\n\")\n",
    "\n",
    "data_frame.set_index('A', inplace=True)\n",
    "print(f\"data frame with new index is: \\n{data_frame}\\n\")"
   ]
  },
  {
   "cell_type": "code",
   "execution_count": 11,
   "id": "811a4186",
   "metadata": {},
   "outputs": [
    {
     "name": "stdout",
     "output_type": "stream",
     "text": [
      "Original DataFrame:\n",
      "    A   B   C\n",
      "X  44  15   3\n",
      "Y  22  72  22\n",
      "Z  75  96  25\n",
      "Element at row 'Y' and column 'B': 72\n"
     ]
    }
   ],
   "source": [
    "# Create a Pandas DataFrame with columns 'A', 'B', 'C' and index 'X', 'Y', 'Z'. Fill the DataFrame with random integers and access the element at row 'Y' and column 'B'\n",
    "df = pd.DataFrame(np.random.randint(1, 100, size=(3, 3)), columns=['A', 'B', 'C'], index=['X', 'Y', 'Z'])\n",
    "print(\"Original DataFrame:\")\n",
    "print(df)\n",
    "\n",
    "# Access the element at row 'Y' and column 'B'\n",
    "element = df.at['Y', 'B']\n",
    "print(\"Element at row 'Y' and column 'B':\", element)\n"
   ]
  },
  {
   "cell_type": "code",
   "execution_count": 13,
   "id": "deb8603a",
   "metadata": {},
   "outputs": [
    {
     "name": "stdout",
     "output_type": "stream",
     "text": [
      "the original data frame is: \n",
      "     A   B   C\n",
      "0   3   2   4\n",
      "1  19  10   9\n",
      "2  19  17  19\n",
      "3  17   2   8\n",
      "4  13   8  12\n",
      "\n",
      "the data frame with new column is: \n",
      "     A   B   C    D\n",
      "0   3   2   4    6\n",
      "1  19  10   9  190\n",
      "2  19  17  19  323\n",
      "3  17   2   8   34\n",
      "4  13   8  12  104\n",
      "\n"
     ]
    }
   ],
   "source": [
    "### Assignment 2: DataFrame Operations\n",
    "\n",
    "# 1. Create a Pandas DataFrame with 3 columns and 5 rows filled with random integers. Add a new column that is the product of the first two columns.\n",
    "\n",
    "data_frame= pd.DataFrame(np.random.randint(1,21,size=(5,3)), columns=['A','B','C'])\n",
    "print(f\"the original data frame is: \\n {data_frame}\\n\")\n",
    "\n",
    "data_frame['D']= data_frame['A'] * data_frame['B']\n",
    "print(f\"the data frame with new column is: \\n {data_frame}\\n\")"
   ]
  },
  {
   "cell_type": "code",
   "execution_count": 16,
   "id": "070ef681",
   "metadata": {},
   "outputs": [
    {
     "name": "stdout",
     "output_type": "stream",
     "text": [
      "the orignal dataframe is: \n",
      "    A   B   C\n",
      "0  19  17  13\n",
      "1   7   9   6\n",
      "2   1   5  11\n",
      "3  13  12  12\n",
      "\n",
      "the row wise sum is: \n",
      "0    49\n",
      "1    22\n",
      "2    17\n",
      "3    37\n",
      "dtype: int64\n",
      "\n",
      "the col wise sum is: \n",
      "A    40\n",
      "B    43\n",
      "C    42\n",
      "dtype: int64\n",
      "\n"
     ]
    }
   ],
   "source": [
    "# 2. Create a Pandas DataFrame with 3 columns and 4 rows filled with random integers. Compute the row-wise and column-wise sum.\n",
    "\n",
    "data_frame= pd.DataFrame(np.random.randint(1,21,size=(4,3)), columns=['A','B','C'])\n",
    "print(f\"the orignal dataframe is: \\n{data_frame}\\n\")\n",
    "\n",
    "row_sum= data_frame.sum(axis=1)\n",
    "col_sum= data_frame.sum(axis=0)\n",
    "\n",
    "print(f\"the row wise sum is: \\n{row_sum}\\n\")\n",
    "print(f\"the col wise sum is: \\n{col_sum}\\n\")"
   ]
  },
  {
   "cell_type": "code",
   "execution_count": null,
   "id": "47362e63",
   "metadata": {},
   "outputs": [],
   "source": [
    "### Assignment 3: Data Cleaning\n",
    "\n",
    "# 1. Create a Pandas DataFrame with 3 columns and 5 rows filled with random integers. Introduce some NaN values. Fill the NaN values with the mean of the respective columns.\n",
    "\n",
    "data_frame= pd.DataFrame(np.random.randint(1,21,size=(5,3)), columns=['A','B','C'])\n",
    "print(f\"the orignal dataframe is: \\n{data_frame}\\n\")\n",
    "\n",
    "data_frame.inloc[0,1]= "
   ]
  }
 ],
 "metadata": {
  "kernelspec": {
   "display_name": "Python 3",
   "language": "python",
   "name": "python3"
  },
  "language_info": {
   "codemirror_mode": {
    "name": "ipython",
    "version": 3
   },
   "file_extension": ".py",
   "mimetype": "text/x-python",
   "name": "python",
   "nbconvert_exporter": "python",
   "pygments_lexer": "ipython3",
   "version": "3.12.0"
  }
 },
 "nbformat": 4,
 "nbformat_minor": 5
}
