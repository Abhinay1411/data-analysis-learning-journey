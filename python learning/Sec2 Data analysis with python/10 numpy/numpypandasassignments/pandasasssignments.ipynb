{
 "cells": [
  {
   "cell_type": "markdown",
   "metadata": {},
   "source": [
    "# Module: Pandas Assignments\n",
    "## Lesson: Pandas\n",
    "### Assignment 1: DataFrame Creation and Indexing\n",
    "\n",
    "1. Create a Pandas DataFrame with 4 columns and 6 rows filled with random integers. Set the index to be the first column.\n",
    "2. Create a Pandas DataFrame with columns 'A', 'B', 'C' and index 'X', 'Y', 'Z'. Fill the DataFrame with random integers and access the element at row 'Y' and column 'B'.\n",
    "\n",
    "### Assignment 2: DataFrame Operations\n",
    "\n",
    "1. Create a Pandas DataFrame with 3 columns and 5 rows filled with random integers. Add a new column that is the product of the first two columns.\n",
    "2. Create a Pandas DataFrame with 3 columns and 4 rows filled with random integers. Compute the row-wise and column-wise sum.\n",
    "\n",
    "### Assignment 3: Data Cleaning\n",
    "\n",
    "1. Create a Pandas DataFrame with 3 columns and 5 rows filled with random integers. Introduce some NaN values. Fill the NaN values with the mean of the respective columns.\n",
    "2. Create a Pandas DataFrame with 4 columns and 6 rows filled with random integers. Introduce some NaN values. Drop the rows with any NaN values.\n",
    "\n",
    "### Assignment 4: Data Aggregation\n",
    "\n",
    "1. Create a Pandas DataFrame with 2 columns: 'Category' and 'Value'. Fill the 'Category' column with random categories ('A', 'B', 'C') and the 'Value' column with random integers. Group the DataFrame by 'Category' and compute the sum and mean of 'Value' for each category.\n",
    "2. Create a Pandas DataFrame with 3 columns: 'Product', 'Category', and 'Sales'. Fill the DataFrame with random data. Group the DataFrame by 'Category' and compute the total sales for each category.\n",
    "\n",
    "### Assignment 5: Merging DataFrames\n",
    "\n",
    "1. Create two Pandas DataFrames with a common column. Merge the DataFrames using the common column.\n",
    "2. Create two Pandas DataFrames with different columns. Concatenate the DataFrames along the rows and along the columns.\n",
    "\n",
    "### Assignment 6: Time Series Analysis\n",
    "\n",
    "1. Create a Pandas DataFrame with a datetime index and one column filled with random integers. Resample the DataFrame to compute the monthly mean of the values.\n",
    "2. Create a Pandas DataFrame with a datetime index ranging from '2021-01-01' to '2021-12-31' and one column filled with random integers. Compute the rolling mean with a window of 7 days.\n",
    "\n",
    "### Assignment 7: MultiIndex DataFrame\n",
    "\n",
    "1. Create a Pandas DataFrame with a MultiIndex (hierarchical index). Perform some basic indexing and slicing operations on the MultiIndex DataFrame.\n",
    "2. Create a Pandas DataFrame with MultiIndex consisting of 'Category' and 'SubCategory'. Fill the DataFrame with random data and compute the sum of values for each 'Category' and 'SubCategory'.\n",
    "\n",
    "### Assignment 8: Pivot Tables\n",
    "\n",
    "1. Create a Pandas DataFrame with columns 'Date', 'Category', and 'Value'. Create a pivot table to compute the sum of 'Value' for each 'Category' by 'Date'.\n",
    "2. Create a Pandas DataFrame with columns 'Year', 'Quarter', and 'Revenue'. Create a pivot table to compute the mean 'Revenue' for each 'Quarter' by 'Year'.\n",
    "\n",
    "### Assignment 9: Applying Functions\n",
    "\n",
    "1. Create a Pandas DataFrame with 3 columns and 5 rows filled with random integers. Apply a function that doubles the values of the DataFrame.\n",
    "2. Create a Pandas DataFrame with 3 columns and 6 rows filled with random integers. Apply a lambda function to create a new column that is the sum of the existing columns.\n",
    "\n",
    "### Assignment 10: Working with Text Data\n",
    "\n",
    "1. Create a Pandas Series with 5 random text strings. Convert all the strings to uppercase.\n",
    "2. Create a Pandas Series with 5 random text strings. Extract the first three characters of each string.\n"
   ]
  },
  {
   "cell_type": "code",
   "execution_count": 10,
   "metadata": {},
   "outputs": [
    {
     "name": "stdout",
     "output_type": "stream",
     "text": [
      "print original dataframe: \n",
      "    A   B   C   D\n",
      "0   0   3   1  18\n",
      "1  16   9  19   1\n",
      "2   4   5  19  18\n",
      "3  16  17  14   2\n",
      "4   0  17   2  17\n",
      "5  19  19  20  10\n",
      "\n",
      "data frame with new index is: \n",
      "     B   C   D\n",
      "A             \n",
      "0    3   1  18\n",
      "16   9  19   1\n",
      "4    5  19  18\n",
      "16  17  14   2\n",
      "0   17   2  17\n",
      "19  19  20  10\n",
      "\n"
     ]
    }
   ],
   "source": [
    "# Create a Pandas DataFrame with 4 columns and 6 rows filled with random integers. Set the index to be the first column.\n",
    "import pandas as pd\n",
    "import numpy as np\n",
    "\n",
    "data_frame= pd.DataFrame(np.random.randint(0,21, size=(6,4)), columns=['A','B','C','D'])\n",
    "print(f\"print original dataframe: \\n{data_frame}\\n\")\n",
    "\n",
    "data_frame.set_index('A', inplace=True)\n",
    "print(f\"data frame with new index is: \\n{data_frame}\\n\")"
   ]
  },
  {
   "cell_type": "code",
   "execution_count": 11,
   "id": "811a4186",
   "metadata": {},
   "outputs": [
    {
     "name": "stdout",
     "output_type": "stream",
     "text": [
      "Original DataFrame:\n",
      "    A   B   C\n",
      "X  44  15   3\n",
      "Y  22  72  22\n",
      "Z  75  96  25\n",
      "Element at row 'Y' and column 'B': 72\n"
     ]
    }
   ],
   "source": [
    "# Create a Pandas DataFrame with columns 'A', 'B', 'C' and index 'X', 'Y', 'Z'. Fill the DataFrame with random integers and access the element at row 'Y' and column 'B'\n",
    "df = pd.DataFrame(np.random.randint(1, 100, size=(3, 3)), columns=['A', 'B', 'C'], index=['X', 'Y', 'Z'])\n",
    "print(\"Original DataFrame:\")\n",
    "print(df)\n",
    "\n",
    "# Access the element at row 'Y' and column 'B'\n",
    "element = df.at['Y', 'B']\n",
    "print(\"Element at row 'Y' and column 'B':\", element)\n"
   ]
  },
  {
   "cell_type": "code",
   "execution_count": 13,
   "id": "deb8603a",
   "metadata": {},
   "outputs": [
    {
     "name": "stdout",
     "output_type": "stream",
     "text": [
      "the original data frame is: \n",
      "     A   B   C\n",
      "0   3   2   4\n",
      "1  19  10   9\n",
      "2  19  17  19\n",
      "3  17   2   8\n",
      "4  13   8  12\n",
      "\n",
      "the data frame with new column is: \n",
      "     A   B   C    D\n",
      "0   3   2   4    6\n",
      "1  19  10   9  190\n",
      "2  19  17  19  323\n",
      "3  17   2   8   34\n",
      "4  13   8  12  104\n",
      "\n"
     ]
    }
   ],
   "source": [
    "### Assignment 2: DataFrame Operations\n",
    "\n",
    "# 1. Create a Pandas DataFrame with 3 columns and 5 rows filled with random integers. Add a new column that is the product of the first two columns.\n",
    "\n",
    "data_frame= pd.DataFrame(np.random.randint(1,21,size=(5,3)), columns=['A','B','C'])\n",
    "print(f\"the original data frame is: \\n {data_frame}\\n\")\n",
    "\n",
    "data_frame['D']= data_frame['A'] * data_frame['B']\n",
    "print(f\"the data frame with new column is: \\n {data_frame}\\n\")"
   ]
  },
  {
   "cell_type": "code",
   "execution_count": 16,
   "id": "070ef681",
   "metadata": {},
   "outputs": [
    {
     "name": "stdout",
     "output_type": "stream",
     "text": [
      "the orignal dataframe is: \n",
      "    A   B   C\n",
      "0  19  17  13\n",
      "1   7   9   6\n",
      "2   1   5  11\n",
      "3  13  12  12\n",
      "\n",
      "the row wise sum is: \n",
      "0    49\n",
      "1    22\n",
      "2    17\n",
      "3    37\n",
      "dtype: int64\n",
      "\n",
      "the col wise sum is: \n",
      "A    40\n",
      "B    43\n",
      "C    42\n",
      "dtype: int64\n",
      "\n"
     ]
    }
   ],
   "source": [
    "# 2. Create a Pandas DataFrame with 3 columns and 4 rows filled with random integers. Compute the row-wise and column-wise sum.\n",
    "\n",
    "data_frame= pd.DataFrame(np.random.randint(1,21,size=(4,3)), columns=['A','B','C'])\n",
    "print(f\"the orignal dataframe is: \\n{data_frame}\\n\")\n",
    "\n",
    "row_sum= data_frame.sum(axis=1)\n",
    "col_sum= data_frame.sum(axis=0)\n",
    "\n",
    "print(f\"the row wise sum is: \\n{row_sum}\\n\")\n",
    "print(f\"the col wise sum is: \\n{col_sum}\\n\")"
   ]
  },
  {
   "cell_type": "code",
   "execution_count": 4,
   "id": "47362e63",
   "metadata": {},
   "outputs": [
    {
     "name": "stdout",
     "output_type": "stream",
     "text": [
      "Original DataFrame: \n",
      "    A   B   C\n",
      "0   1  79  45\n",
      "1  84  44  52\n",
      "2  49   4   5\n",
      "3   8  69  88\n",
      "4  94  93  85\n",
      "\n",
      "Original DataFrame with nan values: \n",
      "      A     B     C\n",
      "0   1.0   NaN  45.0\n",
      "1  84.0  44.0  52.0\n",
      "2  49.0   4.0   NaN\n",
      "3   8.0  69.0  88.0\n",
      "4   NaN  93.0  85.0\n",
      "\n",
      "Original DataFrame with nan filled values: \n",
      "      A     B     C\n",
      "0   1.0  52.5  45.0\n",
      "1  84.0  44.0  52.0\n",
      "2  49.0   4.0  67.5\n",
      "3   8.0  69.0  88.0\n",
      "4  35.5  93.0  85.0\n",
      "\n"
     ]
    }
   ],
   "source": [
    "### Assignment 3: Data Cleaning\n",
    "\n",
    "# 1. Create a Pandas DataFrame with 3 columns and 5 rows filled with random integers. Introduce some NaN values. Fill the NaN values with the mean of the respective columns.\n",
    "import pandas as pd\n",
    "import numpy as np\n",
    "df = pd.DataFrame(np.random.randint(1, 100, size=(5, 3)), columns=['A', 'B', 'C'])\n",
    "print(f\"Original DataFrame: \\n{df}\\n\")\n",
    "\n",
    "\n",
    "\n",
    "df.iloc[0, 1] = np.nan\n",
    "df.iloc[2, 2] = np.nan\n",
    "df.iloc[4, 0] = np.nan\n",
    "print(f\"Original DataFrame with nan values: \\n{df}\\n\")\n",
    "\n",
    "\n",
    "df.fillna(df.mean(), inplace=True)\n",
    "print(f\"Original DataFrame with nan filled values: \\n{df}\\n\")"
   ]
  },
  {
   "cell_type": "code",
   "execution_count": 7,
   "id": "d5e368db",
   "metadata": {},
   "outputs": [
    {
     "name": "stdout",
     "output_type": "stream",
     "text": [
      "Original DataFrame: \n",
      "    A   B   C   D\n",
      "0  16   9  15   9\n",
      "1   4   4   8  18\n",
      "2   5  20  19   5\n",
      "3   7   3  16   3\n",
      "4  12   8  18  16\n",
      "5  18   4  13  19\n",
      "\n",
      "Original DataFrame with nan values: \n",
      "      A     B     C   D\n",
      "0  16.0   NaN  15.0   9\n",
      "1   4.0   4.0   8.0  18\n",
      "2   5.0  20.0   NaN   5\n",
      "3   7.0   3.0  16.0   3\n",
      "4   NaN   8.0  18.0  16\n",
      "5  18.0   4.0  13.0  19\n",
      "\n",
      "the dataframe with drop nan values rows is: \n",
      "      A    B     C   D\n",
      "1   4.0  4.0   8.0  18\n",
      "3   7.0  3.0  16.0   3\n",
      "5  18.0  4.0  13.0  19\n",
      "\n"
     ]
    }
   ],
   "source": [
    "# 2. Create a Pandas DataFrame with 4 columns and 6 rows filled with random integers. Introduce some NaN values. Drop the rows with any NaN values.\n",
    "\n",
    "df = pd.DataFrame(np.random.randint(1, 21, size=(6, 4)), columns=['A', 'B', 'C','D'])\n",
    "print(f\"Original DataFrame: \\n{df}\\n\")\n",
    "\n",
    "df.iloc[0, 1] = np.nan\n",
    "df.iloc[2, 2] = np.nan\n",
    "df.iloc[4, 0] = np.nan\n",
    "print(f\"Original DataFrame with nan values: \\n{df}\\n\")\n",
    "\n",
    "df.dropna(inplace=True)\n",
    "print(f\"the dataframe with drop nan values rows is: \\n{df}\\n\")\n"
   ]
  },
  {
   "cell_type": "code",
   "execution_count": 12,
   "id": "5db2b913",
   "metadata": {},
   "outputs": [
    {
     "name": "stdout",
     "output_type": "stream",
     "text": [
      "Original DataFrame: \n",
      "  category  value\n",
      "0        A     20\n",
      "1        A      8\n",
      "2        C      3\n",
      "3        B      7\n",
      "4        A     19\n",
      "\n",
      "the grouped data frame is: \n",
      "          sum       mean\n",
      "category                \n",
      "A          47  15.666667\n",
      "B           7   7.000000\n",
      "C           3   3.000000\n",
      "\n"
     ]
    }
   ],
   "source": [
    "### Assignment 4: Data Aggregation\n",
    "\n",
    "# 1. Create a Pandas DataFrame with 2 columns: 'Category' and 'Value'. Fill the 'Category' column with random categories ('A', 'B', 'C') and the 'Value' column with random integers. Group the DataFrame by 'Category' and compute the sum and mean of 'Value' for each category.\n",
    "\n",
    "df = pd.DataFrame({'category': np.random.choice(['A','B','C'], size=5), 'value': np.random.randint(1,21,size=5)})\n",
    "print(f\"Original DataFrame: \\n{df}\\n\")\n",
    "\n",
    "grouped_data= df.groupby('category')['value'].agg(['sum','mean'])\n",
    "print(f\"the grouped data frame is: \\n{grouped_data}\\n\")\n",
    "\n",
    "\n"
   ]
  },
  {
   "cell_type": "code",
   "execution_count": 18,
   "id": "18d64eea",
   "metadata": {},
   "outputs": [
    {
     "name": "stdout",
     "output_type": "stream",
     "text": [
      "the original data: \n",
      "     Product Category  Sales\n",
      "0  product 1        B     28\n",
      "1  product 3        A     12\n",
      "2  product 2        B     19\n",
      "3  product 1        A     18\n",
      "4  product 1        C     47\n",
      "\n",
      "the total sales caluclated of products are: \n",
      "Category\n",
      "A    30\n",
      "B    47\n",
      "C    47\n",
      "Name: Sales, dtype: int32\n",
      "\n"
     ]
    }
   ],
   "source": [
    "# 2. Create a Pandas DataFrame with 3 columns: 'Product', 'Category', and 'Sales'. Fill the DataFrame with random data. Group the DataFrame by 'Category' and compute the total sales for each category.\n",
    "import pandas as pd\n",
    "import numpy as np\n",
    "\n",
    "df= pd.DataFrame({\"Product\": np.random.choice(['product 1','product 2','product 3'], size=5), \"Category\": np.random.choice(['A','B','C'], size=5), \"Sales\": np.random.randint(1,51,size=5)})\n",
    "print(f\"the original data: \\n{df}\\n\")\n",
    "\n",
    "grouped = df.groupby('Category')['Sales'].sum()\n",
    "print(f\"the total sales caluclated of products are: \\n{grouped}\\n\")"
   ]
  },
  {
   "cell_type": "code",
   "execution_count": 22,
   "id": "739d6d26",
   "metadata": {},
   "outputs": [
    {
     "name": "stdout",
     "output_type": "stream",
     "text": [
      "first data frame: \n",
      "  key  value1\n",
      "0   A       2\n",
      "1   B       5\n",
      "2   C       1\n",
      "3   D       9\n",
      "\n",
      "second data frame: \n",
      "  key  value2\n",
      "0   A      14\n",
      "1   B       4\n",
      "2   E      19\n",
      "3   F       1\n",
      "\n",
      "the merged data frame is: \n",
      "  key  value1  value2\n",
      "0   A       2      14\n",
      "1   B       5       4\n",
      "\n"
     ]
    }
   ],
   "source": [
    "### Assignment 5: Merging DataFrames\n",
    "\n",
    "# 1. Create two Pandas DataFrames with a common column. Merge the DataFrames using the common column.\n",
    "\n",
    "df1= pd.DataFrame({'key': ['A','B','C','D'] , 'value1': np.random.randint(1,21,size=4)})\n",
    "df2= pd.DataFrame({'key': ['A','B','E','F'] , 'value2': np.random.randint(1,21,size=4)})\n",
    "print(f\"first data frame: \\n{df1}\\n\")\n",
    "print(f\"second data frame: \\n{df2}\\n\")\n",
    "\n",
    "merge= pd.merge(df1,df2, on='key')\n",
    "print(f\"the merged data frame is: \\n{merge}\\n\")"
   ]
  },
  {
   "cell_type": "code",
   "execution_count": null,
   "id": "17043473",
   "metadata": {},
   "outputs": [
    {
     "name": "stdout",
     "output_type": "stream",
     "text": [
      "the first data frame: \n",
      "    A   B\n",
      "0  16   1\n",
      "1   5  14\n",
      "\n",
      "the second data frame: \n",
      "   C  D\n",
      "0  4  9\n",
      "1  6  9\n",
      "\n",
      "concated row of data frames is: \n",
      "      A     B    C    D\n",
      "0  16.0   1.0  NaN  NaN\n",
      "1   5.0  14.0  NaN  NaN\n",
      "0   NaN   NaN  4.0  9.0\n",
      "1   NaN   NaN  6.0  9.0\n",
      "concated col of data frames is: \n",
      "    A   B  C  D\n",
      "0  16   1  4  9\n",
      "1   5  14  6  9\n"
     ]
    }
   ],
   "source": [
    "# 2. Create two Pandas DataFrames with different columns. Concatenate the DataFrames along the rows and along the columns.\n",
    "\n",
    "df1= pd.DataFrame({'A': np.random.randint(1,21,size=2),'B': np.random.randint(1,21,size=2)})\n",
    "df2= pd.DataFrame({'C': np.random.randint(1,21,size=2),'D': np.random.randint(1,21,size=2)})\n",
    "print(f\"the first data frame: \\n{df1}\\n\")\n",
    "print(f\"the second data frame: \\n{df2}\\n\")\n",
    "\n",
    "concat_row= pd.concat([df1,df2], axis=0)\n",
    "print(f\"concated row of data frames is: \\n{concat_row}\")\n",
    "\n",
    "concat_col= pd.concat([df1,df2], axis=1)\n",
    "print(f\"concated col of data frames is: \\n{concat_col}\")"
   ]
  },
  {
   "cell_type": "code",
   "execution_count": 3,
   "id": "da0c99f8",
   "metadata": {},
   "outputs": [
    {
     "name": "stdout",
     "output_type": "stream",
     "text": [
      "original dataframe is: \n",
      "            data\n",
      "date            \n",
      "2024-01-01   100\n",
      "2024-01-02    12\n",
      "2024-01-03    86\n",
      "2024-01-04    32\n",
      "2024-01-05    59\n",
      "...          ...\n",
      "2024-12-27    75\n",
      "2024-12-28    59\n",
      "2024-12-29     4\n",
      "2024-12-30    18\n",
      "2024-12-31    94\n",
      "\n",
      "[366 rows x 1 columns]\n",
      "\n",
      "monthly mean: \n",
      "                 data\n",
      "date                 \n",
      "2024-01-31  53.161290\n",
      "2024-02-29  53.896552\n",
      "2024-03-31  48.032258\n",
      "2024-04-30  44.633333\n",
      "2024-05-31  49.838710\n",
      "2024-06-30  57.633333\n",
      "2024-07-31  44.483871\n",
      "2024-08-31  55.225806\n",
      "2024-09-30  52.200000\n",
      "2024-10-31  51.806452\n",
      "2024-11-30  47.566667\n",
      "2024-12-31  46.225806\n",
      "\n"
     ]
    },
    {
     "name": "stderr",
     "output_type": "stream",
     "text": [
      "C:\\Users\\abhin\\AppData\\Local\\Temp\\ipykernel_23544\\3476005437.py:13: FutureWarning: 'M' is deprecated and will be removed in a future version, please use 'ME' instead.\n",
      "  month_mean= df.resample('M').mean()\n"
     ]
    }
   ],
   "source": [
    "### Assignment 6: Time Series Analysis\n",
    "\n",
    "# 1. Create a Pandas DataFrame with a datetime index and one column filled with random integers. Resample the DataFrame to compute the monthly mean of the values.\n",
    "import pandas as pd\n",
    "import numpy as np\n",
    "\n",
    "date_range= pd.date_range(start='2024-01-01', end='2024-12-31', freq='D')\n",
    "df= pd.DataFrame(date_range, columns=['date'])\n",
    "df['data'] = np.random.randint(1,101,size=(len(date_range)))\n",
    "df.set_index('date', inplace=True)\n",
    "print(f\"original dataframe is: \\n{df}\\n\")\n",
    "\n",
    "month_mean= df.resample('M').mean()\n",
    "print(f\"monthly mean: \\n{month_mean}\\n\")\n"
   ]
  },
  {
   "cell_type": "code",
   "execution_count": 6,
   "id": "bbf155fe",
   "metadata": {},
   "outputs": [
    {
     "name": "stdout",
     "output_type": "stream",
     "text": [
      "original dataframe: \n",
      "            data\n",
      "date            \n",
      "2021-01-01     5\n",
      "2021-01-02    72\n",
      "2021-01-03    10\n",
      "2021-01-04    71\n",
      "2021-01-05    57\n",
      "...          ...\n",
      "2021-12-27    48\n",
      "2021-12-28    33\n",
      "2021-12-29     2\n",
      "2021-12-30    69\n",
      "2021-12-31    21\n",
      "\n",
      "[365 rows x 1 columns]\n",
      "\n",
      "rolling mean dataframes: \n",
      "                 data\n",
      "date                 \n",
      "2021-01-01        NaN\n",
      "2021-01-02        NaN\n",
      "2021-01-03        NaN\n",
      "2021-01-04        NaN\n",
      "2021-01-05        NaN\n",
      "...               ...\n",
      "2021-12-27  57.428571\n",
      "2021-12-28  53.571429\n",
      "2021-12-29  48.000000\n",
      "2021-12-30  47.000000\n",
      "2021-12-31  42.000000\n",
      "\n",
      "[365 rows x 1 columns]\n"
     ]
    }
   ],
   "source": [
    "# 2. Create a Pandas DataFrame with a datetime index ranging from '2021-01-01' to '2021-12-31' and one column filled with random integers. Compute the rolling mean with a window of 7 days.\n",
    "\n",
    "date_range = pd.date_range(start='2021-01-01', end='2021-12-31', freq='D')\n",
    "df= pd.DataFrame(date_range, columns=['date'])\n",
    "df['data'] = np.random.randint(0,100, size=(len(date_range)))\n",
    "df.set_index('date', inplace= True)\n",
    "print(f\"original dataframe: \\n{df}\\n\")\n",
    "\n",
    "rolling_mean= df.rolling(window=7).mean()\n",
    "print(\"rolling mean dataframes: \")\n",
    "print(rolling_mean)"
   ]
  },
  {
   "cell_type": "code",
   "execution_count": 7,
   "id": "1549cc17",
   "metadata": {},
   "outputs": [
    {
     "name": "stdout",
     "output_type": "stream",
     "text": [
      "multiindex dataframe: \n",
      "                      value1  value2  value3\n",
      "category SubCategory                        \n",
      "A        one              96      87      72\n",
      "         two               7       4      62\n",
      "B        one              24      72      93\n",
      "         two              24       8      32\n",
      "\n",
      "indexing at category 'A': \n",
      "             value1  value2  value3\n",
      "SubCategory                        \n",
      "one              96      87      72\n",
      "two               7       4      62\n",
      "slicing at category 'B' and subcategory 'two': \n",
      "value1    24\n",
      "value2     8\n",
      "value3    32\n",
      "Name: (B, two), dtype: int32\n"
     ]
    }
   ],
   "source": [
    "### Assignment 7: MultiIndex DataFrame\n",
    "\n",
    "# 1. Create a Pandas DataFrame with a MultiIndex (hierarchical index). Perform some basic indexing and slicing operations on the MultiIndex DataFrame.\n",
    "\n",
    "arrays = [['A','A','B','B'], ['one','two','one','two']]\n",
    "index = pd.MultiIndex.from_arrays(arrays, names=('category', 'SubCategory'))\n",
    "df= pd.DataFrame(np.random.randint(1,100, size=(4,3)), index=index, columns=['value1','value2','value3'])\n",
    "print(f\"multiindex dataframe: \\n{df}\\n\")\n",
    "\n",
    "print(\"indexing at category 'A': \")\n",
    "print(df.loc['A'])\n",
    "\n",
    "print(\"slicing at category 'B' and subcategory 'two': \")\n",
    "print(df.loc['B','two'])"
   ]
  },
  {
   "cell_type": "code",
   "execution_count": 13,
   "id": "115d77e8",
   "metadata": {},
   "outputs": [
    {
     "name": "stdout",
     "output_type": "stream",
     "text": [
      "the multiindex dataframe is: \n",
      "                      Value1  Value2  Value3\n",
      "category subcategory                        \n",
      "A        one              44      70       4\n",
      "         two              65      86       6\n",
      "B        one               7       1      79\n",
      "         two               8      25      60\n",
      "\n",
      "the sum of values is: \n",
      "                      Value1  Value2  Value3\n",
      "category subcategory                        \n",
      "A        one              44      70       4\n",
      "         two              65      86       6\n",
      "B        one               7       1      79\n",
      "         two               8      25      60\n"
     ]
    }
   ],
   "source": [
    "# 2. Create a Pandas DataFrame with MultiIndex consisting of 'Category' and 'SubCategory'. Fill the DataFrame with random data and compute the sum of values for each 'Category' and 'SubCategory'.\n",
    "\n",
    "arrays = [['A','A','B','B'], ['one','two','one','two']]\n",
    "index = pd.MultiIndex.from_arrays(arrays, names=('category', 'subcategory'))\n",
    "df = pd.DataFrame(np.random.randint(1, 100, size=(4, 3)), index=index, columns=['Value1', 'Value2', 'Value3'])\n",
    "print(f\"the multiindex dataframe is: \\n{df}\\n\")\n",
    "\n",
    "sum_values= df.groupby(['category', 'subcategory']).sum()\n",
    "print(f\"the sum of values is: \\n{sum_values}\")\n"
   ]
  },
  {
   "cell_type": "code",
   "execution_count": 14,
   "id": "600c283a",
   "metadata": {},
   "outputs": [
    {
     "name": "stdout",
     "output_type": "stream",
     "text": [
      "the original dataframe is: \n",
      "         date category  value\n",
      "0  2022-01-07        B     33\n",
      "1  2022-01-08        B     63\n",
      "2  2022-01-10        B     39\n",
      "3  2022-01-01        B     58\n",
      "4  2022-01-03        B     32\n",
      "5  2022-01-02        B     42\n",
      "6  2022-01-06        C     71\n",
      "7  2022-01-03        B     67\n",
      "8  2022-01-10        C     70\n",
      "9  2022-01-08        C     64\n",
      "10 2022-01-10        A     57\n",
      "11 2022-01-08        B     75\n",
      "12 2022-01-02        B     20\n",
      "13 2022-01-08        A     62\n",
      "14 2022-01-05        A     37\n",
      "15 2022-01-06        A     44\n",
      "16 2022-01-10        C     69\n",
      "17 2022-01-10        A     12\n",
      "18 2022-01-01        C     43\n",
      "19 2022-01-10        B     47\n",
      "\n",
      "pivot table: \n",
      "category       A      B      C\n",
      "date                          \n",
      "2022-01-01   NaN   58.0   43.0\n",
      "2022-01-02   NaN   62.0    NaN\n",
      "2022-01-03   NaN   99.0    NaN\n",
      "2022-01-05  37.0    NaN    NaN\n",
      "2022-01-06  44.0    NaN   71.0\n",
      "2022-01-07   NaN   33.0    NaN\n",
      "2022-01-08  62.0  138.0   64.0\n",
      "2022-01-10  69.0   86.0  139.0\n",
      "\n"
     ]
    }
   ],
   "source": [
    "### Assignment 8: Pivot Tables\n",
    "\n",
    "# 1. Create a Pandas DataFrame with columns 'Date', 'Category', and 'Value'. Create a pivot table to compute the sum of 'Value' for each 'Category' by 'Date'.\n",
    "\n",
    "date_range= pd.date_range(start=\"2022-01-01\", end=\"2022-01-10\", freq=\"D\")\n",
    "df= pd.DataFrame({'date': np.random.choice(date_range, size=20), 'category': np.random.choice(['A','B','C'], size=20), 'value': np.random.randint(1,100, size=20)})\n",
    "print(f\"the original dataframe is: \\n{df}\\n\")\n",
    "\n",
    "pivot_table = df.pivot_table(values='value', index='date', columns='category', aggfunc='sum')\n",
    "print(f\"pivot table: \\n{pivot_table}\\n\")"
   ]
  },
  {
   "cell_type": "code",
   "execution_count": 15,
   "id": "ad4a9a05",
   "metadata": {},
   "outputs": [
    {
     "name": "stdout",
     "output_type": "stream",
     "text": [
      "original dataframe: \n",
      "    year quater  revenue\n",
      "0   2021     q4      591\n",
      "1   2022     q4      886\n",
      "2   2021     q4      601\n",
      "3   2021     q4      830\n",
      "4   2020     q4      925\n",
      "5   2022     q4      444\n",
      "6   2020     q4      483\n",
      "7   2020     q4      893\n",
      "8   2022     q4      584\n",
      "9   2021     q4      837\n",
      "10  2022     q4      476\n",
      "11  2021     q4      140\n",
      "\n",
      "pivot table: \n",
      "quater     q4\n",
      "year         \n",
      "2020    767.0\n",
      "2021    599.8\n",
      "2022    597.5\n",
      "\n"
     ]
    }
   ],
   "source": [
    "# 2. Create a Pandas DataFrame with columns 'Year', 'Quarter', and 'Revenue'. Create a pivot table to compute the mean 'Revenue' for each 'Quarter' by 'Year'.\n",
    "\n",
    "df= pd.DataFrame({'year': np.random.choice([2020,2021,2022], size=12), 'quater': np.random.choice(['q1','q2','q3','q4']), 'revenue': np.random.randint(1,1000,size=12)})\n",
    "print(f\"original dataframe: \\n{df}\\n\")\n",
    "\n",
    "pivot_table= df.pivot_table(values='revenue', index='year', columns='quater', aggfunc='mean')\n",
    "print(f\"pivot table: \\n{pivot_table}\\n\")"
   ]
  },
  {
   "cell_type": "code",
   "execution_count": 17,
   "id": "b624e456",
   "metadata": {},
   "outputs": [
    {
     "name": "stdout",
     "output_type": "stream",
     "text": [
      "original dataframe: \n",
      "    a   b   c\n",
      "0  36  47  76\n",
      "1  28  59  52\n",
      "2  21  28  64\n",
      "3  65  29  36\n",
      "4  89  23  34\n",
      "\n",
      "doubled dataframe: \n",
      "     a    b    c\n",
      "0   72   94  152\n",
      "1   56  118  104\n",
      "2   42   56  128\n",
      "3  130   58   72\n",
      "4  178   46   68\n",
      "\n"
     ]
    }
   ],
   "source": [
    "### Assignment 9: Applying Functions\n",
    "\n",
    "# 1. Create a Pandas DataFrame with 3 columns and 5 rows filled with random integers. Apply a function that doubles the values of the DataFrame.\n",
    "\n",
    "df= pd.DataFrame(np.random.randint(1,100,size=(5,3)), columns=['a','b','c'])\n",
    "print(f\"original dataframe: \\n{df}\\n\")\n",
    "\n",
    "df_doubled = df. map(lambda x: x*2)\n",
    "print(f\"doubled dataframe: \\n{df_doubled}\\n\")\n"
   ]
  },
  {
   "cell_type": "code",
   "execution_count": 21,
   "id": "38e03f34",
   "metadata": {},
   "outputs": [
    {
     "name": "stdout",
     "output_type": "stream",
     "text": [
      "original dataframe:\n",
      "    a   b   c\n",
      "0  84  69   5\n",
      "1  51  76   9\n",
      "2  75  69   6\n",
      "3  13  63  41\n",
      "4  45  35  66\n",
      "5   4   7  59\n",
      "\n",
      "dataframe with sum column:\n",
      "    a   b   c  sum\n",
      "0  84  69   5  158\n",
      "1  51  76   9  136\n",
      "2  75  69   6  150\n",
      "3  13  63  41  117\n",
      "4  45  35  66  146\n",
      "5   4   7  59   70\n",
      "\n"
     ]
    }
   ],
   "source": [
    "# 2. Create a Pandas DataFrame with 3 columns and 6 rows filled with random integers. Apply a lambda function to create a new column that is the sum of the existing columns.\n",
    "\n",
    "df = pd.DataFrame(np.random.randint(1,100, size=(6,3)), columns=['a','b','c'])\n",
    "print(f\"original dataframe:\\n{df}\\n\")\n",
    "\n",
    "df['sum'] = df.apply(lambda row: row.sum(), axis=1)\n",
    "print(f\"dataframe with sum column:\\n{df}\\n\")"
   ]
  },
  {
   "cell_type": "code",
   "execution_count": 22,
   "id": "cbf511bc",
   "metadata": {},
   "outputs": [
    {
     "name": "stdout",
     "output_type": "stream",
     "text": [
      "original series: \n",
      "0         apple\n",
      "1        banana\n",
      "2        cherry\n",
      "3          date\n",
      "4    elderberry\n",
      "dtype: object\n",
      "\n",
      "the uppercase series: \n",
      "0         APPLE\n",
      "1        BANANA\n",
      "2        CHERRY\n",
      "3          DATE\n",
      "4    ELDERBERRY\n",
      "dtype: object\n",
      "\n"
     ]
    }
   ],
   "source": [
    "### Assignment 10: Working with Text Data\n",
    "\n",
    "# 1. Create a Pandas Series with 5 random text strings. Convert all the strings to uppercase.\n",
    "\n",
    "text_data= pd.Series(['apple','banana','cherry','date','elderberry'])\n",
    "print(f\"original series: \\n{text_data}\\n\")\n",
    "\n",
    "upper_case= text_data.str.upper()\n",
    "print(f\"the uppercase series: \\n{upper_case}\\n\")"
   ]
  },
  {
   "cell_type": "code",
   "execution_count": 23,
   "id": "0da2a775",
   "metadata": {},
   "outputs": [
    {
     "name": "stdout",
     "output_type": "stream",
     "text": [
      "original series: \n",
      "0         apple\n",
      "1        banana\n",
      "2        cherry\n",
      "3          date\n",
      "4    elderberry\n",
      "dtype: object\n",
      "\n",
      "first three characters: \n",
      "0    app\n",
      "1    ban\n",
      "2    che\n",
      "3    dat\n",
      "4    eld\n",
      "dtype: object\n"
     ]
    }
   ],
   "source": [
    "# 2. Create a Pandas Series with 5 random text strings. Extract the first three characters of each string.\n",
    "\n",
    "text_data= pd.Series(['apple','banana','cherry','date','elderberry'])\n",
    "print(f\"original series: \\n{text_data}\\n\")\n",
    "\n",
    "first_three_chars= text_data.str[:3]\n",
    "print(\"first three characters: \")\n",
    "print(first_three_chars)"
   ]
  },
  {
   "cell_type": "code",
   "execution_count": null,
   "id": "88525168",
   "metadata": {},
   "outputs": [],
   "source": []
  }
 ],
 "metadata": {
  "kernelspec": {
   "display_name": "Python 3",
   "language": "python",
   "name": "python3"
  },
  "language_info": {
   "codemirror_mode": {
    "name": "ipython",
    "version": 3
   },
   "file_extension": ".py",
   "mimetype": "text/x-python",
   "name": "python",
   "nbconvert_exporter": "python",
   "pygments_lexer": "ipython3",
   "version": "3.12.0"
  }
 },
 "nbformat": 4,
 "nbformat_minor": 5
}
