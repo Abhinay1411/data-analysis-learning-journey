{
 "cells": [
  {
   "cell_type": "markdown",
   "metadata": {},
   "source": [
    "# Module: Pandas Assignments\n",
    "## Lesson: Pandas\n",
    "### Assignment 1: DataFrame Creation and Indexing\n",
    "\n",
    "1. Create a Pandas DataFrame with 4 columns and 6 rows filled with random integers. Set the index to be the first column.\n",
    "2. Create a Pandas DataFrame with columns 'A', 'B', 'C' and index 'X', 'Y', 'Z'. Fill the DataFrame with random integers and access the element at row 'Y' and column 'B'.\n",
    "\n",
    "### Assignment 2: DataFrame Operations\n",
    "\n",
    "1. Create a Pandas DataFrame with 3 columns and 5 rows filled with random integers. Add a new column that is the product of the first two columns.\n",
    "2. Create a Pandas DataFrame with 3 columns and 4 rows filled with random integers. Compute the row-wise and column-wise sum.\n",
    "\n",
    "### Assignment 3: Data Cleaning\n",
    "\n",
    "1. Create a Pandas DataFrame with 3 columns and 5 rows filled with random integers. Introduce some NaN values. Fill the NaN values with the mean of the respective columns.\n",
    "2. Create a Pandas DataFrame with 4 columns and 6 rows filled with random integers. Introduce some NaN values. Drop the rows with any NaN values.\n",
    "\n",
    "### Assignment 4: Data Aggregation\n",
    "\n",
    "1. Create a Pandas DataFrame with 2 columns: 'Category' and 'Value'. Fill the 'Category' column with random categories ('A', 'B', 'C') and the 'Value' column with random integers. Group the DataFrame by 'Category' and compute the sum and mean of 'Value' for each category.\n",
    "2. Create a Pandas DataFrame with 3 columns: 'Product', 'Category', and 'Sales'. Fill the DataFrame with random data. Group the DataFrame by 'Category' and compute the total sales for each category.\n",
    "\n",
    "### Assignment 5: Merging DataFrames\n",
    "\n",
    "1. Create two Pandas DataFrames with a common column. Merge the DataFrames using the common column.\n",
    "2. Create two Pandas DataFrames with different columns. Concatenate the DataFrames along the rows and along the columns.\n",
    "\n",
    "### Assignment 6: Time Series Analysis\n",
    "\n",
    "1. Create a Pandas DataFrame with a datetime index and one column filled with random integers. Resample the DataFrame to compute the monthly mean of the values.\n",
    "2. Create a Pandas DataFrame with a datetime index ranging from '2021-01-01' to '2021-12-31' and one column filled with random integers. Compute the rolling mean with a window of 7 days.\n",
    "\n",
    "### Assignment 7: MultiIndex DataFrame\n",
    "\n",
    "1. Create a Pandas DataFrame with a MultiIndex (hierarchical index). Perform some basic indexing and slicing operations on the MultiIndex DataFrame.\n",
    "2. Create a Pandas DataFrame with MultiIndex consisting of 'Category' and 'SubCategory'. Fill the DataFrame with random data and compute the sum of values for each 'Category' and 'SubCategory'.\n",
    "\n",
    "### Assignment 8: Pivot Tables\n",
    "\n",
    "1. Create a Pandas DataFrame with columns 'Date', 'Category', and 'Value'. Create a pivot table to compute the sum of 'Value' for each 'Category' by 'Date'.\n",
    "2. Create a Pandas DataFrame with columns 'Year', 'Quarter', and 'Revenue'. Create a pivot table to compute the mean 'Revenue' for each 'Quarter' by 'Year'.\n",
    "\n",
    "### Assignment 9: Applying Functions\n",
    "\n",
    "1. Create a Pandas DataFrame with 3 columns and 5 rows filled with random integers. Apply a function that doubles the values of the DataFrame.\n",
    "2. Create a Pandas DataFrame with 3 columns and 6 rows filled with random integers. Apply a lambda function to create a new column that is the sum of the existing columns.\n",
    "\n",
    "### Assignment 10: Working with Text Data\n",
    "\n",
    "1. Create a Pandas Series with 5 random text strings. Convert all the strings to uppercase.\n",
    "2. Create a Pandas Series with 5 random text strings. Extract the first three characters of each string.\n"
   ]
  },
  {
   "cell_type": "code",
   "execution_count": 10,
   "metadata": {},
   "outputs": [
    {
     "name": "stdout",
     "output_type": "stream",
     "text": [
      "print original dataframe: \n",
      "    A   B   C   D\n",
      "0   0   3   1  18\n",
      "1  16   9  19   1\n",
      "2   4   5  19  18\n",
      "3  16  17  14   2\n",
      "4   0  17   2  17\n",
      "5  19  19  20  10\n",
      "\n",
      "data frame with new index is: \n",
      "     B   C   D\n",
      "A             \n",
      "0    3   1  18\n",
      "16   9  19   1\n",
      "4    5  19  18\n",
      "16  17  14   2\n",
      "0   17   2  17\n",
      "19  19  20  10\n",
      "\n"
     ]
    }
   ],
   "source": [
    "# Create a Pandas DataFrame with 4 columns and 6 rows filled with random integers. Set the index to be the first column.\n",
    "import pandas as pd\n",
    "import numpy as np\n",
    "\n",
    "data_frame= pd.DataFrame(np.random.randint(0,21, size=(6,4)), columns=['A','B','C','D'])\n",
    "print(f\"print original dataframe: \\n{data_frame}\\n\")\n",
    "\n",
    "data_frame.set_index('A', inplace=True)\n",
    "print(f\"data frame with new index is: \\n{data_frame}\\n\")"
   ]
  },
  {
   "cell_type": "code",
   "execution_count": 11,
   "id": "811a4186",
   "metadata": {},
   "outputs": [
    {
     "name": "stdout",
     "output_type": "stream",
     "text": [
      "Original DataFrame:\n",
      "    A   B   C\n",
      "X  44  15   3\n",
      "Y  22  72  22\n",
      "Z  75  96  25\n",
      "Element at row 'Y' and column 'B': 72\n"
     ]
    }
   ],
   "source": [
    "# Create a Pandas DataFrame with columns 'A', 'B', 'C' and index 'X', 'Y', 'Z'. Fill the DataFrame with random integers and access the element at row 'Y' and column 'B'\n",
    "df = pd.DataFrame(np.random.randint(1, 100, size=(3, 3)), columns=['A', 'B', 'C'], index=['X', 'Y', 'Z'])\n",
    "print(\"Original DataFrame:\")\n",
    "print(df)\n",
    "\n",
    "# Access the element at row 'Y' and column 'B'\n",
    "element = df.at['Y', 'B']\n",
    "print(\"Element at row 'Y' and column 'B':\", element)\n"
   ]
  },
  {
   "cell_type": "code",
   "execution_count": 13,
   "id": "deb8603a",
   "metadata": {},
   "outputs": [
    {
     "name": "stdout",
     "output_type": "stream",
     "text": [
      "the original data frame is: \n",
      "     A   B   C\n",
      "0   3   2   4\n",
      "1  19  10   9\n",
      "2  19  17  19\n",
      "3  17   2   8\n",
      "4  13   8  12\n",
      "\n",
      "the data frame with new column is: \n",
      "     A   B   C    D\n",
      "0   3   2   4    6\n",
      "1  19  10   9  190\n",
      "2  19  17  19  323\n",
      "3  17   2   8   34\n",
      "4  13   8  12  104\n",
      "\n"
     ]
    }
   ],
   "source": [
    "### Assignment 2: DataFrame Operations\n",
    "\n",
    "# 1. Create a Pandas DataFrame with 3 columns and 5 rows filled with random integers. Add a new column that is the product of the first two columns.\n",
    "\n",
    "data_frame= pd.DataFrame(np.random.randint(1,21,size=(5,3)), columns=['A','B','C'])\n",
    "print(f\"the original data frame is: \\n {data_frame}\\n\")\n",
    "\n",
    "data_frame['D']= data_frame['A'] * data_frame['B']\n",
    "print(f\"the data frame with new column is: \\n {data_frame}\\n\")"
   ]
  },
  {
   "cell_type": "code",
   "execution_count": 16,
   "id": "070ef681",
   "metadata": {},
   "outputs": [
    {
     "name": "stdout",
     "output_type": "stream",
     "text": [
      "the orignal dataframe is: \n",
      "    A   B   C\n",
      "0  19  17  13\n",
      "1   7   9   6\n",
      "2   1   5  11\n",
      "3  13  12  12\n",
      "\n",
      "the row wise sum is: \n",
      "0    49\n",
      "1    22\n",
      "2    17\n",
      "3    37\n",
      "dtype: int64\n",
      "\n",
      "the col wise sum is: \n",
      "A    40\n",
      "B    43\n",
      "C    42\n",
      "dtype: int64\n",
      "\n"
     ]
    }
   ],
   "source": [
    "# 2. Create a Pandas DataFrame with 3 columns and 4 rows filled with random integers. Compute the row-wise and column-wise sum.\n",
    "\n",
    "data_frame= pd.DataFrame(np.random.randint(1,21,size=(4,3)), columns=['A','B','C'])\n",
    "print(f\"the orignal dataframe is: \\n{data_frame}\\n\")\n",
    "\n",
    "row_sum= data_frame.sum(axis=1)\n",
    "col_sum= data_frame.sum(axis=0)\n",
    "\n",
    "print(f\"the row wise sum is: \\n{row_sum}\\n\")\n",
    "print(f\"the col wise sum is: \\n{col_sum}\\n\")"
   ]
  },
  {
   "cell_type": "code",
   "execution_count": 4,
   "id": "47362e63",
   "metadata": {},
   "outputs": [
    {
     "name": "stdout",
     "output_type": "stream",
     "text": [
      "Original DataFrame: \n",
      "    A   B   C\n",
      "0   1  79  45\n",
      "1  84  44  52\n",
      "2  49   4   5\n",
      "3   8  69  88\n",
      "4  94  93  85\n",
      "\n",
      "Original DataFrame with nan values: \n",
      "      A     B     C\n",
      "0   1.0   NaN  45.0\n",
      "1  84.0  44.0  52.0\n",
      "2  49.0   4.0   NaN\n",
      "3   8.0  69.0  88.0\n",
      "4   NaN  93.0  85.0\n",
      "\n",
      "Original DataFrame with nan filled values: \n",
      "      A     B     C\n",
      "0   1.0  52.5  45.0\n",
      "1  84.0  44.0  52.0\n",
      "2  49.0   4.0  67.5\n",
      "3   8.0  69.0  88.0\n",
      "4  35.5  93.0  85.0\n",
      "\n"
     ]
    }
   ],
   "source": [
    "### Assignment 3: Data Cleaning\n",
    "\n",
    "# 1. Create a Pandas DataFrame with 3 columns and 5 rows filled with random integers. Introduce some NaN values. Fill the NaN values with the mean of the respective columns.\n",
    "import pandas as pd\n",
    "import numpy as np\n",
    "df = pd.DataFrame(np.random.randint(1, 100, size=(5, 3)), columns=['A', 'B', 'C'])\n",
    "print(f\"Original DataFrame: \\n{df}\\n\")\n",
    "\n",
    "\n",
    "\n",
    "df.iloc[0, 1] = np.nan\n",
    "df.iloc[2, 2] = np.nan\n",
    "df.iloc[4, 0] = np.nan\n",
    "print(f\"Original DataFrame with nan values: \\n{df}\\n\")\n",
    "\n",
    "\n",
    "df.fillna(df.mean(), inplace=True)\n",
    "print(f\"Original DataFrame with nan filled values: \\n{df}\\n\")"
   ]
  },
  {
   "cell_type": "code",
   "execution_count": 7,
   "id": "d5e368db",
   "metadata": {},
   "outputs": [
    {
     "name": "stdout",
     "output_type": "stream",
     "text": [
      "Original DataFrame: \n",
      "    A   B   C   D\n",
      "0  16   9  15   9\n",
      "1   4   4   8  18\n",
      "2   5  20  19   5\n",
      "3   7   3  16   3\n",
      "4  12   8  18  16\n",
      "5  18   4  13  19\n",
      "\n",
      "Original DataFrame with nan values: \n",
      "      A     B     C   D\n",
      "0  16.0   NaN  15.0   9\n",
      "1   4.0   4.0   8.0  18\n",
      "2   5.0  20.0   NaN   5\n",
      "3   7.0   3.0  16.0   3\n",
      "4   NaN   8.0  18.0  16\n",
      "5  18.0   4.0  13.0  19\n",
      "\n",
      "the dataframe with drop nan values rows is: \n",
      "      A    B     C   D\n",
      "1   4.0  4.0   8.0  18\n",
      "3   7.0  3.0  16.0   3\n",
      "5  18.0  4.0  13.0  19\n",
      "\n"
     ]
    }
   ],
   "source": [
    "# 2. Create a Pandas DataFrame with 4 columns and 6 rows filled with random integers. Introduce some NaN values. Drop the rows with any NaN values.\n",
    "\n",
    "df = pd.DataFrame(np.random.randint(1, 21, size=(6, 4)), columns=['A', 'B', 'C','D'])\n",
    "print(f\"Original DataFrame: \\n{df}\\n\")\n",
    "\n",
    "df.iloc[0, 1] = np.nan\n",
    "df.iloc[2, 2] = np.nan\n",
    "df.iloc[4, 0] = np.nan\n",
    "print(f\"Original DataFrame with nan values: \\n{df}\\n\")\n",
    "\n",
    "df.dropna(inplace=True)\n",
    "print(f\"the dataframe with drop nan values rows is: \\n{df}\\n\")\n"
   ]
  },
  {
   "cell_type": "code",
   "execution_count": 12,
   "id": "5db2b913",
   "metadata": {},
   "outputs": [
    {
     "name": "stdout",
     "output_type": "stream",
     "text": [
      "Original DataFrame: \n",
      "  category  value\n",
      "0        A     20\n",
      "1        A      8\n",
      "2        C      3\n",
      "3        B      7\n",
      "4        A     19\n",
      "\n",
      "the grouped data frame is: \n",
      "          sum       mean\n",
      "category                \n",
      "A          47  15.666667\n",
      "B           7   7.000000\n",
      "C           3   3.000000\n",
      "\n"
     ]
    }
   ],
   "source": [
    "### Assignment 4: Data Aggregation\n",
    "\n",
    "# 1. Create a Pandas DataFrame with 2 columns: 'Category' and 'Value'. Fill the 'Category' column with random categories ('A', 'B', 'C') and the 'Value' column with random integers. Group the DataFrame by 'Category' and compute the sum and mean of 'Value' for each category.\n",
    "\n",
    "df = pd.DataFrame({'category': np.random.choice(['A','B','C'], size=5), 'value': np.random.randint(1,21,size=5)})\n",
    "print(f\"Original DataFrame: \\n{df}\\n\")\n",
    "\n",
    "grouped_data= df.groupby('category')['value'].agg(['sum','mean'])\n",
    "print(f\"the grouped data frame is: \\n{grouped_data}\\n\")\n",
    "\n",
    "\n"
   ]
  },
  {
   "cell_type": "code",
   "execution_count": 18,
   "id": "18d64eea",
   "metadata": {},
   "outputs": [
    {
     "name": "stdout",
     "output_type": "stream",
     "text": [
      "the original data: \n",
      "     Product Category  Sales\n",
      "0  product 1        B     28\n",
      "1  product 3        A     12\n",
      "2  product 2        B     19\n",
      "3  product 1        A     18\n",
      "4  product 1        C     47\n",
      "\n",
      "the total sales caluclated of products are: \n",
      "Category\n",
      "A    30\n",
      "B    47\n",
      "C    47\n",
      "Name: Sales, dtype: int32\n",
      "\n"
     ]
    }
   ],
   "source": [
    "# 2. Create a Pandas DataFrame with 3 columns: 'Product', 'Category', and 'Sales'. Fill the DataFrame with random data. Group the DataFrame by 'Category' and compute the total sales for each category.\n",
    "import pandas as pd\n",
    "import numpy as np\n",
    "\n",
    "df= pd.DataFrame({\"Product\": np.random.choice(['product 1','product 2','product 3'], size=5), \"Category\": np.random.choice(['A','B','C'], size=5), \"Sales\": np.random.randint(1,51,size=5)})\n",
    "print(f\"the original data: \\n{df}\\n\")\n",
    "\n",
    "grouped = df.groupby('Category')['Sales'].sum()\n",
    "print(f\"the total sales caluclated of products are: \\n{grouped}\\n\")"
   ]
  },
  {
   "cell_type": "code",
   "execution_count": 22,
   "id": "739d6d26",
   "metadata": {},
   "outputs": [
    {
     "name": "stdout",
     "output_type": "stream",
     "text": [
      "first data frame: \n",
      "  key  value1\n",
      "0   A       2\n",
      "1   B       5\n",
      "2   C       1\n",
      "3   D       9\n",
      "\n",
      "second data frame: \n",
      "  key  value2\n",
      "0   A      14\n",
      "1   B       4\n",
      "2   E      19\n",
      "3   F       1\n",
      "\n",
      "the merged data frame is: \n",
      "  key  value1  value2\n",
      "0   A       2      14\n",
      "1   B       5       4\n",
      "\n"
     ]
    }
   ],
   "source": [
    "### Assignment 5: Merging DataFrames\n",
    "\n",
    "# 1. Create two Pandas DataFrames with a common column. Merge the DataFrames using the common column.\n",
    "\n",
    "df1= pd.DataFrame({'key': ['A','B','C','D'] , 'value1': np.random.randint(1,21,size=4)})\n",
    "df2= pd.DataFrame({'key': ['A','B','E','F'] , 'value2': np.random.randint(1,21,size=4)})\n",
    "print(f\"first data frame: \\n{df1}\\n\")\n",
    "print(f\"second data frame: \\n{df2}\\n\")\n",
    "\n",
    "merge= pd.merge(df1,df2, on='key')\n",
    "print(f\"the merged data frame is: \\n{merge}\\n\")"
   ]
  },
  {
   "cell_type": "code",
   "execution_count": null,
   "id": "17043473",
   "metadata": {},
   "outputs": [
    {
     "name": "stdout",
     "output_type": "stream",
     "text": [
      "the first data frame: \n",
      "    A   B\n",
      "0  16   1\n",
      "1   5  14\n",
      "\n",
      "the second data frame: \n",
      "   C  D\n",
      "0  4  9\n",
      "1  6  9\n",
      "\n",
      "concated row of data frames is: \n",
      "      A     B    C    D\n",
      "0  16.0   1.0  NaN  NaN\n",
      "1   5.0  14.0  NaN  NaN\n",
      "0   NaN   NaN  4.0  9.0\n",
      "1   NaN   NaN  6.0  9.0\n",
      "concated col of data frames is: \n",
      "    A   B  C  D\n",
      "0  16   1  4  9\n",
      "1   5  14  6  9\n"
     ]
    }
   ],
   "source": [
    "# 2. Create two Pandas DataFrames with different columns. Concatenate the DataFrames along the rows and along the columns.\n",
    "\n",
    "df1= pd.DataFrame({'A': np.random.randint(1,21,size=2),'B': np.random.randint(1,21,size=2)})\n",
    "df2= pd.DataFrame({'C': np.random.randint(1,21,size=2),'D': np.random.randint(1,21,size=2)})\n",
    "print(f\"the first data frame: \\n{df1}\\n\")\n",
    "print(f\"the second data frame: \\n{df2}\\n\")\n",
    "\n",
    "concat_row= pd.concat([df1,df2], axis=0)\n",
    "print(f\"concated row of data frames is: \\n{concat_row}\")\n",
    "\n",
    "concat_col= pd.concat([df1,df2], axis=1)\n",
    "print(f\"concated col of data frames is: \\n{concat_col}\")"
   ]
  },
  {
   "cell_type": "code",
   "execution_count": null,
   "id": "da0c99f8",
   "metadata": {},
   "outputs": [
    {
     "data": {
      "text/html": [
       "<div>\n",
       "<style scoped>\n",
       "    .dataframe tbody tr th:only-of-type {\n",
       "        vertical-align: middle;\n",
       "    }\n",
       "\n",
       "    .dataframe tbody tr th {\n",
       "        vertical-align: top;\n",
       "    }\n",
       "\n",
       "    .dataframe thead th {\n",
       "        text-align: right;\n",
       "    }\n",
       "</style>\n",
       "<table border=\"1\" class=\"dataframe\">\n",
       "  <thead>\n",
       "    <tr style=\"text-align: right;\">\n",
       "      <th></th>\n",
       "      <th>A</th>\n",
       "      <th>B</th>\n",
       "    </tr>\n",
       "  </thead>\n",
       "  <tbody>\n",
       "    <tr>\n",
       "      <th>0</th>\n",
       "      <td>17</td>\n",
       "      <td>6</td>\n",
       "    </tr>\n",
       "    <tr>\n",
       "      <th>1</th>\n",
       "      <td>14</td>\n",
       "      <td>17</td>\n",
       "    </tr>\n",
       "  </tbody>\n",
       "</table>\n",
       "</div>"
      ],
      "text/plain": [
       "    A   B\n",
       "0  17   6\n",
       "1  14  17"
      ]
     },
     "execution_count": 29,
     "metadata": {},
     "output_type": "execute_result"
    }
   ],
   "source": [
    "### Assignment 6: Time Series Analysis\n",
    "\n",
    "# 1. Create a Pandas DataFrame with a datetime index and one column filled with random integers. Resample the DataFrame to compute the monthly mean of the values.\n",
    "\n",
    "date_range= pd.date_range(start='2024-01-01', end='2024-12-31', freq='D')\n",
    "data= pd.DataFrame(date_range, columns=['Date'])"
   ]
  },
  {
   "cell_type": "code",
   "execution_count": null,
   "id": "bbf155fe",
   "metadata": {},
   "outputs": [],
   "source": []
  }
 ],
 "metadata": {
  "kernelspec": {
   "display_name": "Python 3",
   "language": "python",
   "name": "python3"
  },
  "language_info": {
   "codemirror_mode": {
    "name": "ipython",
    "version": 3
   },
   "file_extension": ".py",
   "mimetype": "text/x-python",
   "name": "python",
   "nbconvert_exporter": "python",
   "pygments_lexer": "ipython3",
   "version": "3.12.0"
  }
 },
 "nbformat": 4,
 "nbformat_minor": 5
}
